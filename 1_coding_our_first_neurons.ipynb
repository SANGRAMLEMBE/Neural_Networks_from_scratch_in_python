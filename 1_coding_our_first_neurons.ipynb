{
  "nbformat": 4,
  "nbformat_minor": 0,
  "metadata": {
    "colab": {
      "provenance": [],
      "authorship_tag": "ABX9TyPS1LKeCctR3YUu0BD7rzJ3",
      "include_colab_link": true
    },
    "kernelspec": {
      "name": "python3",
      "display_name": "Python 3"
    },
    "language_info": {
      "name": "python"
    }
  },
  "cells": [
    {
      "cell_type": "markdown",
      "metadata": {
        "id": "view-in-github",
        "colab_type": "text"
      },
      "source": [
        "<a href=\"https://colab.research.google.com/github/SANGRAMLEMBE/Neural_Networks_from_scratch_in_python/blob/main/coding_our_first_neurons.ipynb\" target=\"_parent\"><img src=\"https://colab.research.google.com/assets/colab-badge.svg\" alt=\"Open In Colab\"/></a>"
      ]
    },
    {
      "cell_type": "markdown",
      "source": [
        "# Coding Our First Neurons"
      ],
      "metadata": {
        "id": "c6XQBj4bDIsh"
      }
    },
    {
      "cell_type": "code",
      "execution_count": 1,
      "metadata": {
        "colab": {
          "base_uri": "https://localhost:8080/"
        },
        "id": "99zPC_oBL9Tn",
        "outputId": "4791abb8-399b-499b-c741-f8712e5d624f"
      },
      "outputs": [
        {
          "output_type": "stream",
          "name": "stdout",
          "text": [
            "2.3\n"
          ]
        }
      ],
      "source": [
        "# Neuron with 3 inputs\n",
        "input = [1,2,3]\n",
        "\n",
        "weights  = [0.2,0.8,-0.5]\n",
        "\n",
        "bias= 2\n",
        "\n",
        "output = (input[0]*weights[0])+(input[1]*weights[1])+(input[2]*weights[2])+bias\n",
        "\n",
        "print(output)"
      ]
    },
    {
      "cell_type": "code",
      "source": [
        "# Neuron with 4 inputs\n",
        "input = [1,2,3,4]\n",
        "\n",
        "weights  = [0.2,0.8,0.4,-0.5]\n",
        "\n",
        "bias= 2\n",
        "\n",
        "output = (input[0]*weights[0])+(input[1]*weights[1])+(input[2]*weights[2])+ (input[3]*weights[3])+bias\n",
        "\n",
        "print(output)"
      ],
      "metadata": {
        "colab": {
          "base_uri": "https://localhost:8080/"
        },
        "id": "i1LhFYjUM9jb",
        "outputId": "ec13ae62-00e8-49e2-8a84-3a6fae6b7420"
      },
      "execution_count": 2,
      "outputs": [
        {
          "output_type": "stream",
          "name": "stdout",
          "text": [
            "3.0\n"
          ]
        }
      ]
    },
    {
      "cell_type": "code",
      "source": [
        "#Layer of Neurons\n",
        "\n",
        "inputs = [1,2,3,2.5]\n",
        "\n",
        "weights = [[0.2,0.8,-0.5,1],\n",
        "           [0.5,-0.91,0.26,-0.5],\n",
        "           [-0.26,-0.27,0.17,0.87]]\n",
        "\n",
        "biases = [2,3,0.5]\n",
        "\n",
        "bias1 = 2\n",
        "bias2 = 3\n",
        "bias3 = 0.5\n",
        "\n",
        "output = [ # Neuron 1\n",
        "          inputs[0]*weights[0][0]+       #\n",
        "           inputs[1]*weights[0][1]+\n",
        "           inputs[2]*weights[0][2]+\n",
        "           inputs[3]*weights[0][3]+\n",
        "           bias1,\n",
        "           # Neuron 2\n",
        "           inputs[0]*weights[1][0]+\n",
        "           inputs[1]*weights[1][1]+\n",
        "           inputs[2]*weights[1][2]+\n",
        "           inputs[3]*weights[1][3]+\n",
        "           bias2,\n",
        "           # Neuron 3\n",
        "           inputs[0]*weights[2][0]+\n",
        "           inputs[1]*weights[2][1]+\n",
        "           inputs[2]*weights[2][2]+\n",
        "           inputs[3]*weights[2][3]+\n",
        "           bias3]\n",
        "\n",
        "print(output)"
      ],
      "metadata": {
        "id": "Svs3mYCmNir2",
        "outputId": "03542caa-9814-414f-9706-c2cfa2bd270a",
        "colab": {
          "base_uri": "https://localhost:8080/"
        }
      },
      "execution_count": 3,
      "outputs": [
        {
          "output_type": "stream",
          "name": "stdout",
          "text": [
            "[4.8, 1.21, 2.385]\n"
          ]
        }
      ]
    },
    {
      "cell_type": "code",
      "source": [
        "#Layer of Neurons\n",
        "\n",
        "inputs = [1,2,3,2.5]\n",
        "\n",
        "weights = [[0.2,0.8,-0.5,1],\n",
        "           [0.5,-0.91,0.26,-0.5],\n",
        "           [-0.26,-0.27,0.17,0.87]]\n",
        "\n",
        "weight1 = weights[0]     # List of Weights associated with 1st Neuron\n",
        "weight2 = weights[1]     # List of Weights associated with 2nd Neuron\n",
        "weight3 = weights[2]     # List of Weights associated with 3rd Neuron\n",
        "\n",
        "biases = [2,3,0.5]\n",
        "\n",
        "bias1 = 2\n",
        "bias2 = 3\n",
        "bias3 = 0.5\n",
        "\n",
        "output = [ # Neuron 1\n",
        "          inputs[0]*weight1[0]+\n",
        "           inputs[1]*weight1[1]+\n",
        "           inputs[2]*weight1[2]+\n",
        "           inputs[3]*weight1[3]+\n",
        "           bias1,\n",
        "           # Neuron 2\n",
        "           inputs[0]*weight2[0]+\n",
        "           inputs[1]*weight2[1]+\n",
        "           inputs[2]*weight2[2]+\n",
        "           inputs[3]*weight2[3]+\n",
        "           bias2,\n",
        "           # Neuron 3\n",
        "           inputs[0]*weight3[0]+\n",
        "           inputs[1]*weight3[1]+\n",
        "           inputs[2]*weight3[2]+\n",
        "           inputs[3]*weight3[3]+\n",
        "           bias3]\n",
        "\n",
        "print(output)"
      ],
      "metadata": {
        "id": "8NPbyPKC-g9r",
        "outputId": "480ceb42-bfcd-443c-84cc-c41992cacb24",
        "colab": {
          "base_uri": "https://localhost:8080/"
        }
      },
      "execution_count": 4,
      "outputs": [
        {
          "output_type": "stream",
          "name": "stdout",
          "text": [
            "[4.8, 1.21, 2.385]\n"
          ]
        }
      ]
    },
    {
      "cell_type": "markdown",
      "source": [
        "# Using Loops for Better And Easier Coding\n"
      ],
      "metadata": {
        "id": "4BZyolCTDHBG"
      }
    },
    {
      "cell_type": "code",
      "source": [
        "inputs = [1.1,2.2,3.3]\n",
        "\n",
        "# List of Weights\n",
        "\n",
        "weights = [[2,0,0],\n",
        "           [2,2,0],\n",
        "           [2,2,2]]\n",
        "\n",
        "# List of bias\n",
        "biases = [0,0,1]\n",
        "\n",
        "# Output of Current Layer\n",
        "\n",
        "layer_output = []\n",
        "\n",
        "# For each Neuron\n",
        "for neuron_weights , neuron_bias in zip(weights,biases):\n",
        "  # Zeroed Output of given Neuron\n",
        "  neuron_output = 0\n",
        "  # For each input and Weights to the Neuron\n",
        "  for n_input,weight in zip(inputs,neuron_weights):\n",
        "    neuron_output += n_input*weight    # w11*x1 + W12*x2 + w13*x3 +w14*x4  / w21*x1 + W22*x2 + w23*x3 +w24*x4\n",
        "    neuron_output += neuron_bias       #  w11*x1 + W12*x2 + w13*x3 +w14*x4+b1\n",
        "  layer_output.append(neuron_output)\n",
        "\n",
        "print(layer_output)\n"
      ],
      "metadata": {
        "id": "QErbPbJF-8P8",
        "outputId": "b0f65421-8659-45a3-d16c-7025bbbb0a45",
        "colab": {
          "base_uri": "https://localhost:8080/"
        }
      },
      "execution_count": 5,
      "outputs": [
        {
          "output_type": "stream",
          "name": "stdout",
          "text": [
            "[2.2, 6.6000000000000005, 16.200000000000003]\n"
          ]
        }
      ]
    },
    {
      "cell_type": "code",
      "source": [
        "inputs = [1,2,3,2.5]\n",
        "\n",
        "# List of Weights\n",
        "\n",
        "weights = [[0.2,0.8,-0.5,1],\n",
        "           [0.5,-0.91,0.26,-0.5],\n",
        "           [-0.26,-0.27,0.17,0.87]]\n",
        "\n",
        "# List of bias\n",
        "biases = [2,3,0.5]\n",
        "\n",
        "\n",
        "# Output of Current Layer\n",
        "\n",
        "layer_output = []\n",
        "\n",
        "# For each Neuron\n",
        "for neuron_weights , neuron_bias in zip(weights,biases):\n",
        "  # Zeroed Output of given Neuron\n",
        "  neuron_output = 0\n",
        "  # For each input and Weights to the Neuron\n",
        "  for n_input,weight in zip(inputs,neuron_weights):\n",
        "    # Multipy  this input by associated weight\n",
        "    # and add to the neuron's output variables\n",
        "\n",
        "    neuron_output += n_input*weight    # w11*x1 + W12*x2 + w13*x3 +w14*x4  / w21*x1 + W22*x2 + w23*x3 +w24*x4\n",
        "\n",
        "\n",
        "  # for Biases ( must hhave to keep it outside the for loop of weight)\n",
        "  neuron_output += neuron_bias       #  w11*x1 + W12*x2 + w13*x3 +w14*x4+b1\n",
        "  layer_output.append(neuron_output)\n",
        "\n",
        "print(layer_output)\n"
      ],
      "metadata": {
        "id": "mQJbVCGDIS5W",
        "outputId": "fb6a77f6-6d23-4baf-8a5a-48565b809f17",
        "colab": {
          "base_uri": "https://localhost:8080/"
        }
      },
      "execution_count": 6,
      "outputs": [
        {
          "output_type": "stream",
          "name": "stdout",
          "text": [
            "[4.8, 1.21, 2.385]\n"
          ]
        }
      ]
    },
    {
      "cell_type": "markdown",
      "source": [
        "# The Numpy and Dot product in coding neurons and Layers\n",
        "\n",
        "1. Vector to Vector Dot Product\n",
        "In neural networks, the vector-vector dot product is often used for operations like computing similarities or simple perceptron activations. It calculates a scalar as the sum of element-wise products. For vectors a = [a1, a2, ..., an] and b = [b1, b2, ..., bn], it is:\n",
        "dot(a, b) = sum over i of (a_i * b_i)\n",
        "Vectors must have matching lengths.\n",
        "\n",
        "2. Vector to Matrix Dot Product\n",
        "This is common in neural networks for layer computations, such as multiplying an input vector by a weight matrix to get activations for multiple neurons. It performs a sum product, yielding a vector where each element is the dot product of the vector with a row of the matrix. For vector v (shape (n,)) and matrix M (shape (m, n)), the result (shape (m,)) has:\n",
        "result[i] = sum over j of (M[i, j] * v[j])\n",
        "The vector length must match the matrix's columns.\n",
        "\n",
        "\n",
        "3. Matrix to Matrix Dot Product\n",
        "In neural networks from scratch, matrix-matrix dot products are key for batch processing (e.g., input matrix dotted with weight matrix for multiple samples). It performs matrix multiplication, where each element in the result is a dot product of a row from the first matrix and a column from the second. For matrices A (shape (m, p)) and B (shape (p, n)), result C (shape (m, n)) has:\n",
        "C[i, j] = sum over k of (A[i, k] * B[k, j])\n",
        "Columns of A must match rows of B"
      ],
      "metadata": {
        "id": "NzcoYQ-2AQY5"
      }
    },
    {
      "cell_type": "markdown",
      "source": [
        "np.dot(a,b) != np.dot(b,a)"
      ],
      "metadata": {
        "id": "ifQxVdLxCux_"
      }
    },
    {
      "cell_type": "code",
      "source": [
        "import numpy as np\n",
        "inputs = [1.0,2.0,3.0,2.5]\n",
        "weights =[0.2,0.8,-0.5,1.0]\n",
        "bias = 2.0\n",
        "outputs = np.dot(weights,inputs)+bias\n",
        "print(outputs)"
      ],
      "metadata": {
        "id": "CEpzYYYrIs8-",
        "colab": {
          "base_uri": "https://localhost:8080/"
        },
        "outputId": "c28b2938-db72-4212-fe7c-e2d48141aca7"
      },
      "execution_count": 8,
      "outputs": [
        {
          "output_type": "stream",
          "name": "stdout",
          "text": [
            "4.8\n"
          ]
        }
      ]
    },
    {
      "cell_type": "code",
      "source": [
        "input = [1,2,3]\n",
        "\n",
        "weights  = [0.2,0.8,-0.5]\n",
        "\n",
        "bias= 2\n",
        "\n",
        "output = np.dot(weights,input)+bias\n",
        "\n",
        "print(output)"
      ],
      "metadata": {
        "colab": {
          "base_uri": "https://localhost:8080/"
        },
        "id": "R-IjMpvCEbLe",
        "outputId": "2d07e484-3de9-4372-a069-be35da858002"
      },
      "execution_count": 11,
      "outputs": [
        {
          "output_type": "stream",
          "name": "stdout",
          "text": [
            "2.3\n"
          ]
        }
      ]
    },
    {
      "cell_type": "markdown",
      "source": [
        "## Dot product between Vector and Matrix\n",
        "\n",
        "[np.dot(w1,x)+b1 , np.dot(w2,x)+ b2 , np.dot(w3 + x) +b3 ]"
      ],
      "metadata": {
        "id": "sNXSdt_RGYa8"
      }
    },
    {
      "cell_type": "code",
      "source": [
        "inputs = [1,2,3,2.5]\n",
        "biases = [2,3,0.5]\n",
        "\n",
        "weights = [[0.2,0.8,-0.5,1],\n",
        "           [0.5,-0.91,0.26,-0.5],\n",
        "           [-0.26,-0.27,0.17,0.87]]\n",
        "\n",
        "weight1 = weights[0]     # List of Weights associated with 1st Neuron\n",
        "weight2 = weights[1]     # List of Weights associated with 2nd Neuron\n",
        "weight3 = weights[2]     # List of Weights associated with 3rd Neuron\n",
        "\n",
        "\n",
        "output = [np.dot(weight1,inputs)+biases[0] , np.dot(weight2,inputs)+biases[1] , np.dot(weight3,inputs)+biases[2]]\n",
        "\n",
        "print(output)"
      ],
      "metadata": {
        "colab": {
          "base_uri": "https://localhost:8080/"
        },
        "id": "FZSIt6KnEqMR",
        "outputId": "9a4bc7d2-4888-48d6-90f0-6479a2f72c1d"
      },
      "execution_count": 15,
      "outputs": [
        {
          "output_type": "stream",
          "name": "stdout",
          "text": [
            "[np.float64(4.8), np.float64(1.21), np.float64(2.385)]\n"
          ]
        }
      ]
    },
    {
      "cell_type": "code",
      "source": [
        "# LAYER CODING\n",
        "\n",
        "inputs = [1,2,3,2.5]\n",
        "biases = [2,3,0.5]\n",
        "\n",
        "weights = [[0.2,0.8,-0.5,1],\n",
        "           [0.5,-0.91,0.26,-0.5],\n",
        "           [-0.26,-0.27,0.17,0.87]]\n",
        "\n",
        "layer_output = np.dot(weights,inputs)+biases\n",
        "\n",
        "print(layer_output)"
      ],
      "metadata": {
        "colab": {
          "base_uri": "https://localhost:8080/"
        },
        "id": "-I7cxnt8Iwwb",
        "outputId": "70ad1522-ea2b-4f7b-f403-fe11cf0b7a0c"
      },
      "execution_count": 16,
      "outputs": [
        {
          "output_type": "stream",
          "name": "stdout",
          "text": [
            "[4.8   1.21  2.385]\n"
          ]
        }
      ]
    },
    {
      "cell_type": "markdown",
      "source": [
        "Inputs = 3 Rows * 4 Columns\n",
        "\n",
        "weights = 3 Rows * 4 Columns\n",
        "\n",
        "we can't do matrix multiplication , so we have to Transpose weight Matrix\n",
        "\n",
        "output (3,3) = Inputs(3,4) * T(Weights)(4,3)"
      ],
      "metadata": {
        "id": "ItymVUHDPZAi"
      }
    },
    {
      "cell_type": "code",
      "source": [
        "# BATCH CODING\n",
        "\n",
        "inputs =   [1,2,3,2.5],[2,5,-1,2],[-1.5,2.7,3.3,-0.8]\n",
        "\n",
        "biases = [2,3,0.5]\n",
        "\n",
        "weights = [[0.2,0.8,-0.5,1],\n",
        "           [0.5,-0.91,0.26,-0.5],\n",
        "           [-0.26,-0.27,0.17,0.87]]\n",
        "\n",
        "# here our weights are in list so we have to convert list into array.\n",
        "outputs = np.dot(inputs,np.array(weights).T) + biases\n",
        "print(outputs)\n",
        "\n"
      ],
      "metadata": {
        "colab": {
          "base_uri": "https://localhost:8080/"
        },
        "id": "hv4kjGVQLVle",
        "outputId": "dfd55762-a5c8-4319-b31c-d6959bce7ae6"
      },
      "execution_count": 17,
      "outputs": [
        {
          "output_type": "stream",
          "name": "stdout",
          "text": [
            "[[ 4.8    1.21   2.385]\n",
            " [ 8.9   -1.81   0.2  ]\n",
            " [ 1.41   1.051  0.026]]\n"
          ]
        }
      ]
    },
    {
      "cell_type": "code",
      "source": [],
      "metadata": {
        "id": "Kw_36rcmPVDv"
      },
      "execution_count": null,
      "outputs": []
    }
  ]
}
