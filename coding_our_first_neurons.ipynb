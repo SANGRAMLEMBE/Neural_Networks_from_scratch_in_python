{
  "nbformat": 4,
  "nbformat_minor": 0,
  "metadata": {
    "colab": {
      "provenance": [],
      "authorship_tag": "ABX9TyPxPdV9Hx4eDA2GE7U+7GaY",
      "include_colab_link": true
    },
    "kernelspec": {
      "name": "python3",
      "display_name": "Python 3"
    },
    "language_info": {
      "name": "python"
    }
  },
  "cells": [
    {
      "cell_type": "markdown",
      "metadata": {
        "id": "view-in-github",
        "colab_type": "text"
      },
      "source": [
        "<a href=\"https://colab.research.google.com/github/SANGRAMLEMBE/Neural_Networks_from_scratch_in_python/blob/main/coding_our_first_neurons.ipynb\" target=\"_parent\"><img src=\"https://colab.research.google.com/assets/colab-badge.svg\" alt=\"Open In Colab\"/></a>"
      ]
    },
    {
      "cell_type": "code",
      "execution_count": 1,
      "metadata": {
        "colab": {
          "base_uri": "https://localhost:8080/"
        },
        "id": "99zPC_oBL9Tn",
        "outputId": "679cc223-264f-4d9f-c0ff-8fa14ef87cfb"
      },
      "outputs": [
        {
          "output_type": "stream",
          "name": "stdout",
          "text": [
            "2.3\n"
          ]
        }
      ],
      "source": [
        "input = [1,2,3]\n",
        "\n",
        "weights  = [0.2,0.8,-0.5]\n",
        "\n",
        "bias= 2\n",
        "\n",
        "output = (input[0]*weights[0])+(input[1]*weights[1])+(input[2]*weights[2])+bias\n",
        "\n",
        "print(output)"
      ]
    },
    {
      "cell_type": "code",
      "source": [
        "input = [1,2,3,4]\n",
        "\n",
        "weights  = [0.2,0.8,0.4,-0.5]\n",
        "\n",
        "bias= 2\n",
        "\n",
        "output = (input[0]*weights[0])+(input[1]*weights[1])+(input[2]*weights[2])+ (input[3]*weights[3])+bias\n",
        "\n",
        "print(output)"
      ],
      "metadata": {
        "colab": {
          "base_uri": "https://localhost:8080/"
        },
        "id": "i1LhFYjUM9jb",
        "outputId": "58a59fcd-d06c-41d0-af64-a72eb1ceafaa"
      },
      "execution_count": 3,
      "outputs": [
        {
          "output_type": "stream",
          "name": "stdout",
          "text": [
            "3.0\n"
          ]
        }
      ]
    },
    {
      "cell_type": "code",
      "source": [],
      "metadata": {
        "id": "Svs3mYCmNir2"
      },
      "execution_count": null,
      "outputs": []
    }
  ]
}