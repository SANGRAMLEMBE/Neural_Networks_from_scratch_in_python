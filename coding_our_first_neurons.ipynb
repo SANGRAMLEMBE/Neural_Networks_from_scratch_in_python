{
  "nbformat": 4,
  "nbformat_minor": 0,
  "metadata": {
    "colab": {
      "provenance": [],
      "authorship_tag": "ABX9TyN0noX/oahconyBE18KVavZ",
      "include_colab_link": true
    },
    "kernelspec": {
      "name": "python3",
      "display_name": "Python 3"
    },
    "language_info": {
      "name": "python"
    }
  },
  "cells": [
    {
      "cell_type": "markdown",
      "metadata": {
        "id": "view-in-github",
        "colab_type": "text"
      },
      "source": [
        "<a href=\"https://colab.research.google.com/github/SANGRAMLEMBE/Neural_Networks_from_scratch_in_python/blob/main/coding_our_first_neurons.ipynb\" target=\"_parent\"><img src=\"https://colab.research.google.com/assets/colab-badge.svg\" alt=\"Open In Colab\"/></a>"
      ]
    },
    {
      "cell_type": "markdown",
      "source": [
        "# Coding Our First Neurons"
      ],
      "metadata": {
        "id": "c6XQBj4bDIsh"
      }
    },
    {
      "cell_type": "code",
      "execution_count": 1,
      "metadata": {
        "colab": {
          "base_uri": "https://localhost:8080/"
        },
        "id": "99zPC_oBL9Tn",
        "outputId": "e0421f41-aadf-4d6b-a1f5-dddf1264df16"
      },
      "outputs": [
        {
          "output_type": "stream",
          "name": "stdout",
          "text": [
            "2.3\n"
          ]
        }
      ],
      "source": [
        "# Neuron with 3 inputs\n",
        "input = [1,2,3]\n",
        "\n",
        "weights  = [0.2,0.8,-0.5]\n",
        "\n",
        "bias= 2\n",
        "\n",
        "output = (input[0]*weights[0])+(input[1]*weights[1])+(input[2]*weights[2])+bias\n",
        "\n",
        "print(output)"
      ]
    },
    {
      "cell_type": "code",
      "source": [
        "# Neuron with 4 inputs\n",
        "input = [1,2,3,4]\n",
        "\n",
        "weights  = [0.2,0.8,0.4,-0.5]\n",
        "\n",
        "bias= 2\n",
        "\n",
        "output = (input[0]*weights[0])+(input[1]*weights[1])+(input[2]*weights[2])+ (input[3]*weights[3])+bias\n",
        "\n",
        "print(output)"
      ],
      "metadata": {
        "colab": {
          "base_uri": "https://localhost:8080/"
        },
        "id": "i1LhFYjUM9jb",
        "outputId": "c495d038-5772-405e-dd41-1ee77aae6638"
      },
      "execution_count": 3,
      "outputs": [
        {
          "output_type": "stream",
          "name": "stdout",
          "text": [
            "3.0\n"
          ]
        }
      ]
    },
    {
      "cell_type": "code",
      "source": [
        "#Layer of Neurons\n",
        "\n",
        "inputs = [1,2,3,2.5]\n",
        "\n",
        "weights = [[0.2,0.8,-0.5,1],\n",
        "           [0.5,-0.91,0.26,-0.5],\n",
        "           [-0.26,-0.27,0.17,0.87]]\n",
        "\n",
        "biases = [2,3,0.5]\n",
        "\n",
        "bias1 = 2\n",
        "bias2 = 3\n",
        "bias3 = 0.5\n",
        "\n",
        "output = [ # Neuron 1\n",
        "          inputs[0]*weights[0][0]+       #\n",
        "           inputs[1]*weights[0][1]+\n",
        "           inputs[2]*weights[0][2]+\n",
        "           inputs[3]*weights[0][3]+\n",
        "           bias1,\n",
        "           # Neuron 2\n",
        "           inputs[0]*weights[1][0]+\n",
        "           inputs[1]*weights[1][1]+\n",
        "           inputs[2]*weights[1][2]+\n",
        "           inputs[3]*weights[1][3]+\n",
        "           bias2,\n",
        "           # Neuron 3\n",
        "           inputs[0]*weights[2][0]+\n",
        "           inputs[1]*weights[2][1]+\n",
        "           inputs[2]*weights[2][2]+\n",
        "           inputs[3]*weights[2][3]+\n",
        "           bias3]\n",
        "\n",
        "print(output)"
      ],
      "metadata": {
        "id": "Svs3mYCmNir2",
        "outputId": "df4c6a4d-d753-43b6-a062-fe2049e70858",
        "colab": {
          "base_uri": "https://localhost:8080/"
        }
      },
      "execution_count": 7,
      "outputs": [
        {
          "output_type": "stream",
          "name": "stdout",
          "text": [
            "[4.8, 1.21, 2.385]\n"
          ]
        }
      ]
    },
    {
      "cell_type": "code",
      "source": [
        "#Layer of Neurons\n",
        "\n",
        "inputs = [1,2,3,2.5]\n",
        "\n",
        "weights = [[0.2,0.8,-0.5,1],\n",
        "           [0.5,-0.91,0.26,-0.5],\n",
        "           [-0.26,-0.27,0.17,0.87]]\n",
        "\n",
        "weight1 = weights[0]     # List of Weights associated with 1st Neuron\n",
        "weight2 = weights[1]     # List of Weights associated with 2nd Neuron\n",
        "weight3 = weights[2]     # List of Weights associated with 3rd Neuron\n",
        "\n",
        "biases = [2,3,0.5]\n",
        "\n",
        "bias1 = 2\n",
        "bias2 = 3\n",
        "bias3 = 0.5\n",
        "\n",
        "output = [ # Neuron 1\n",
        "          inputs[0]*weight1[0]+\n",
        "           inputs[1]*weight1[1]+\n",
        "           inputs[2]*weight1[2]+\n",
        "           inputs[3]*weight1[3]+\n",
        "           bias1,\n",
        "           # Neuron 2\n",
        "           inputs[0]*weight2[0]+\n",
        "           inputs[1]*weight2[1]+\n",
        "           inputs[2]*weight2[2]+\n",
        "           inputs[3]*weight2[3]+\n",
        "           bias2,\n",
        "           # Neuron 3\n",
        "           inputs[0]*weight3[0]+\n",
        "           inputs[1]*weight3[1]+\n",
        "           inputs[2]*weight3[2]+\n",
        "           inputs[3]*weight3[3]+\n",
        "           bias3]\n",
        "\n",
        "print(output)"
      ],
      "metadata": {
        "id": "8NPbyPKC-g9r",
        "outputId": "e7143e52-885c-432d-d9cf-7c5a78d547ab",
        "colab": {
          "base_uri": "https://localhost:8080/"
        }
      },
      "execution_count": 6,
      "outputs": [
        {
          "output_type": "stream",
          "name": "stdout",
          "text": [
            "[4.8, 1.21, 2.385]\n"
          ]
        }
      ]
    },
    {
      "cell_type": "markdown",
      "source": [
        "# Using Loops for Better And Easier Coding\n"
      ],
      "metadata": {
        "id": "4BZyolCTDHBG"
      }
    },
    {
      "cell_type": "code",
      "source": [
        "inputs = [1.1,2.2,3.3]\n",
        "\n",
        "# List of Weights\n",
        "\n",
        "weights = [[2,0,0],\n",
        "           [2,2,0],\n",
        "           [2,2,2]]\n",
        "\n",
        "# List of bias\n",
        "biases = [0,0,1]\n",
        "\n",
        "# Output of Current Layer\n",
        "\n",
        "layer_output = []\n",
        "\n",
        "# For each Neuron\n",
        "for neuron_weights , neuron_bias in zip(weights,biases):\n",
        "  # Zeroed Output of given Neuron\n",
        "  neuron_output = 0\n",
        "  # For each input and Weights to the Neuron\n",
        "  for n_input,weight in zip(inputs,neuron_weights):\n",
        "    neuron_output += n_input*weight    # w11*x1 + W12*x2 + w13*x3 +w14*x4  / w21*x1 + W22*x2 + w23*x3 +w24*x4\n",
        "    neuron_output += neuron_bias       #  w11*x1 + W12*x2 + w13*x3 +w14*x4+b1\n",
        "  layer_output.append(neuron_output)\n",
        "\n",
        "print(layer_output)\n",
        ""
      ],
      "metadata": {
        "id": "QErbPbJF-8P8",
        "outputId": "4797924f-e558-4cc3-a77e-2a1a845158d4",
        "colab": {
          "base_uri": "https://localhost:8080/"
        }
      },
      "execution_count": 8,
      "outputs": [
        {
          "output_type": "stream",
          "name": "stdout",
          "text": [
            "[2.2, 6.6000000000000005, 16.200000000000003]\n"
          ]
        }
      ]
    },
    {
      "cell_type": "code",
      "source": [
        "inputs = [1,2,3,2.5]\n",
        "\n",
        "# List of Weights\n",
        "\n",
        "weights = [[0.2,0.8,-0.5,1],\n",
        "           [0.5,-0.91,0.26,-0.5],\n",
        "           [-0.26,-0.27,0.17,0.87]]\n",
        "\n",
        "# List of bias\n",
        "biases = [2,3,0.5]\n",
        "\n",
        "\n",
        "# Output of Current Layer\n",
        "\n",
        "layer_output = []\n",
        "\n",
        "# For each Neuron\n",
        "for neuron_weights , neuron_bias in zip(weights,biases):\n",
        "  # Zeroed Output of given Neuron\n",
        "  neuron_output = 0\n",
        "  # For each input and Weights to the Neuron\n",
        "  for n_input,weight in zip(inputs,neuron_weights):\n",
        "    # Multipy  this input by associated weight\n",
        "    # and add to the neuron's output variables\n",
        "\n",
        "    neuron_output += n_input*weight    # w11*x1 + W12*x2 + w13*x3 +w14*x4  / w21*x1 + W22*x2 + w23*x3 +w24*x4\n",
        "\n",
        "\n",
        "  # for Biases ( must hhave to keep it outside the for loop of weight)\n",
        "  neuron_output += neuron_bias       #  w11*x1 + W12*x2 + w13*x3 +w14*x4+b1\n",
        "  layer_output.append(neuron_output)\n",
        "\n",
        "print(layer_output)\n",
        ""
      ],
      "metadata": {
        "id": "mQJbVCGDIS5W",
        "outputId": "7599da35-95cd-4982-fe6c-77d6d34fecf7",
        "colab": {
          "base_uri": "https://localhost:8080/"
        }
      },
      "execution_count": 10,
      "outputs": [
        {
          "output_type": "stream",
          "name": "stdout",
          "text": [
            "[4.8, 1.21, 2.385]\n"
          ]
        }
      ]
    },
    {
      "cell_type": "code",
      "source": [],
      "metadata": {
        "id": "CEpzYYYrIs8-"
      },
      "execution_count": null,
      "outputs": []
    }
  ]
}