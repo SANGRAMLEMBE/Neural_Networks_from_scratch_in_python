{
  "nbformat": 4,
  "nbformat_minor": 0,
  "metadata": {
    "colab": {
      "provenance": [],
      "authorship_tag": "ABX9TyPo9nSVkF3iu0p6jQ0fZJCS",
      "include_colab_link": true
    },
    "kernelspec": {
      "name": "python3",
      "display_name": "Python 3"
    },
    "language_info": {
      "name": "python"
    }
  },
  "cells": [
    {
      "cell_type": "markdown",
      "metadata": {
        "id": "view-in-github",
        "colab_type": "text"
      },
      "source": [
        "<a href=\"https://colab.research.google.com/github/SANGRAMLEMBE/Neural_Networks_from_scratch_in_python/blob/main/4_Broadcasting_and_array_summation.ipynb\" target=\"_parent\"><img src=\"https://colab.research.google.com/assets/colab-badge.svg\" alt=\"Open In Colab\"/></a>"
      ]
    },
    {
      "cell_type": "code",
      "execution_count": 2,
      "metadata": {
        "id": "vxUQ66cbRY21"
      },
      "outputs": [],
      "source": [
        "import pandas as pd\n",
        "import numpy as np"
      ]
    },
    {
      "cell_type": "code",
      "source": [
        "# Array Summation\n",
        "A =  [[1, 2, 3],[4, 5,6],[7,8,9]]\n",
        "print(np.sum(A))"
      ],
      "metadata": {
        "id": "VIoEsmuBZ0V0",
        "colab": {
          "base_uri": "https://localhost:8080/"
        },
        "outputId": "d466cac8-1089-4c2f-b965-021a1dbba2ae"
      },
      "execution_count": 3,
      "outputs": [
        {
          "output_type": "stream",
          "name": "stdout",
          "text": [
            "45\n"
          ]
        }
      ]
    },
    {
      "cell_type": "code",
      "source": [
        "# 1 Dimensional array\n",
        "print(np.sum(A, axis = 0))\n",
        "print(np.sum(A, axis = 0).shape)"
      ],
      "metadata": {
        "colab": {
          "base_uri": "https://localhost:8080/"
        },
        "id": "X7jkp6TroTEy",
        "outputId": "48d1b9f2-11e7-4d10-cd6f-194c1397d54b"
      },
      "execution_count": 15,
      "outputs": [
        {
          "output_type": "stream",
          "name": "stdout",
          "text": [
            "[12 15 18]\n",
            "(3,)\n"
          ]
        }
      ]
    },
    {
      "cell_type": "code",
      "source": [
        "# 1 Dimensional array\n",
        "print(np.sum(A, axis = 1))\n",
        "print(np.sum(A, axis = 1).shape)"
      ],
      "metadata": {
        "colab": {
          "base_uri": "https://localhost:8080/"
        },
        "id": "dt9LeZr3opB6",
        "outputId": "483d9c73-851f-43f0-8409-9c5f59ee00f7"
      },
      "execution_count": 5,
      "outputs": [
        {
          "output_type": "stream",
          "name": "stdout",
          "text": [
            "[ 6 15 24]\n",
            "(3,)\n"
          ]
        }
      ]
    },
    {
      "cell_type": "code",
      "source": [
        "# 2 Dimensional array  Broadcasting\n",
        "print(np.sum(A, axis =1, keepdims=True))\n",
        "print(np.sum(A, axis=1, keepdims= True).shape)"
      ],
      "metadata": {
        "colab": {
          "base_uri": "https://localhost:8080/"
        },
        "id": "13-H-AOwo9SA",
        "outputId": "ddd51c3d-2837-4bbe-dbb9-5b350c34dcc5"
      },
      "execution_count": 10,
      "outputs": [
        {
          "output_type": "stream",
          "name": "stdout",
          "text": [
            "[[ 6]\n",
            " [15]\n",
            " [24]]\n",
            "(3, 1)\n"
          ]
        }
      ]
    },
    {
      "cell_type": "code",
      "source": [
        "# 2 Dimensional array Broadcasting\n",
        "print(np.sum(A, axis =0, keepdims=True))\n",
        "print(np.sum(A, axis=0, keepdims= True).shape)"
      ],
      "metadata": {
        "colab": {
          "base_uri": "https://localhost:8080/"
        },
        "id": "9D_K7MwSpkhJ",
        "outputId": "c1274cea-e492-4d2e-c1b9-2216880a0231"
      },
      "execution_count": 12,
      "outputs": [
        {
          "output_type": "stream",
          "name": "stdout",
          "text": [
            "[[12 15 18]]\n",
            "(1, 3)\n"
          ]
        }
      ]
    },
    {
      "cell_type": "code",
      "source": [
        "print(\"Max values in columns\",np.max(A, axis = 0))\n",
        "print(\"Max values in Rows\",np.max(A, axis = 1))"
      ],
      "metadata": {
        "colab": {
          "base_uri": "https://localhost:8080/"
        },
        "id": "kzVFw8hYqISr",
        "outputId": "3e8c6a1c-2c7f-41dd-9b3c-f653c95f1418"
      },
      "execution_count": 14,
      "outputs": [
        {
          "output_type": "stream",
          "name": "stdout",
          "text": [
            "Max values in columns [7 8 9]\n",
            "Max values in Rows [3 6 9]\n"
          ]
        }
      ]
    },
    {
      "cell_type": "code",
      "source": [],
      "metadata": {
        "id": "gw0b5fY-rLXt"
      },
      "execution_count": null,
      "outputs": []
    }
  ]
}