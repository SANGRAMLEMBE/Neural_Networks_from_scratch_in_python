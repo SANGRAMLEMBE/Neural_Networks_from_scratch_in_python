{
  "nbformat": 4,
  "nbformat_minor": 0,
  "metadata": {
    "colab": {
      "provenance": [],
      "authorship_tag": "ABX9TyNUhkZxWkRb0sW8NymHmzR6",
      "include_colab_link": true
    },
    "kernelspec": {
      "name": "python3",
      "display_name": "Python 3"
    },
    "language_info": {
      "name": "python"
    }
  },
  "cells": [
    {
      "cell_type": "markdown",
      "metadata": {
        "id": "view-in-github",
        "colab_type": "text"
      },
      "source": [
        "<a href=\"https://colab.research.google.com/github/SANGRAMLEMBE/Neural_Networks_from_scratch_in_python/blob/main/Coding_multiple_neural_network_layers_and_stacking_together.ipynb\" target=\"_parent\"><img src=\"https://colab.research.google.com/assets/colab-badge.svg\" alt=\"Open In Colab\"/></a>"
      ]
    },
    {
      "cell_type": "code",
      "execution_count": 1,
      "metadata": {
        "id": "BgsiySgeWsJn"
      },
      "outputs": [],
      "source": [
        "import numpy as np"
      ]
    },
    {
      "cell_type": "markdown",
      "source": [
        "-  Always we have to take (weight * input) format only. but , dot product is not happend then we have to take (input * [weight]Transpose)\n"
      ],
      "metadata": {
        "id": "4rLbQWKXcmfT"
      }
    },
    {
      "cell_type": "code",
      "source": [
        "\n",
        "inputs =  [ [1,2,3,2.5],\n",
        "             [2,5,-1,2],\n",
        "              [-1.5,2.7,3.3,-0.8]]\n",
        "\n",
        "biases = [2,3,0.5]\n",
        "\n",
        "weight1 = [[0.2,0.8,-0.5,1],\n",
        "           [0.5,-0.91,0.26,-0.5],\n",
        "           [-0.26,-0.27,0.17,0.87]]\n",
        "\n",
        "biases = [2,3,0.5]\n",
        "\n",
        "weight2 = [[0.1,-0.14,0.5],\n",
        "           [-0.5,0.12,-0.33],\n",
        "           [-0.44,0.73,-0.13]\n",
        "          ]\n",
        "\n",
        "biases2 = [-1,2,-0.5]\n",
        "\n",
        "# convert list to Numpy array\n",
        "\n",
        "inputs_array = np.array(inputs)\n",
        "weights1_array = np.array(weight1)\n",
        "weights2_array = np.array(weight2)\n",
        "biases_array = np.array(biases)\n",
        "biases2_array = np.array(biases2)\n",
        "\n",
        "\n",
        "# calculate the output of the first layer\n",
        "layer1_output = np.dot(inputs_array, weights1_array.T) + biases_array\n",
        "print(layer1_output)\n",
        "\n",
        "# calculate the output of the second layer\n",
        "layer2_output = np.dot(layer1_output, weights2_array.T) + biases2_array\n",
        "print(\"\\nFinal output matrix \\n\",layer2_output)"
      ],
      "metadata": {
        "colab": {
          "base_uri": "https://localhost:8080/"
        },
        "id": "faOFBq6zaPYc",
        "outputId": "d0988128-f767-4295-d1d5-a3f75748d3ce"
      },
      "execution_count": 7,
      "outputs": [
        {
          "output_type": "stream",
          "name": "stdout",
          "text": [
            "[[ 4.8    1.21   2.385]\n",
            " [ 8.9   -1.81   0.2  ]\n",
            " [ 1.41   1.051  0.026]]\n",
            "\n",
            "Final output matrix \n",
            " [[ 0.5031  -1.04185 -2.03875]\n",
            " [ 0.2434  -2.7332  -5.7633 ]\n",
            " [-0.99314  1.41254 -0.35655]]\n"
          ]
        }
      ]
    },
    {
      "cell_type": "code",
      "source": [
        "# Create 4 hidden layer Network and find what is output Matrix\n",
        "\n",
        "input = [[1,2,3,2.5],\n",
        "         [3.5,6,1.7,5.6],\n",
        "         [5,6,2,0.7],\n",
        "         [2.5,3.6,4,5]]\n",
        "\n",
        "weight1 = [[0.2,0.8,-0.5,1],\n",
        "           [0.5,-0.91,0.26,-0.5],\n",
        "           [-0.26,-0.27,0.17,0.87],\n",
        "            [5,6,2,0.7]]\n",
        "\n",
        "weight2 = [[0.1,-0.14,0.5,2],\n",
        "           [-0.5,0.12,-0.33,0.5],\n",
        "           [-0.44,0.73,-0.13,0.8],\n",
        "            [-0.44,0.73,-0.13,2]\n",
        "          ]\n",
        "\n",
        "weight3 = [[-0.27,0.17,0.87,0.5],\n",
        "           [0.1,-0.14,0.5,0.8],\n",
        "           [-0.5,8,-0.33,1],\n",
        "           [-0.44,0.73,-0.13,0.45]\n",
        "          ]\n",
        "\n",
        "weight4 = [[0.1,-0.14,0.5,0.1],\n",
        "           [-0.5,0.12,-0.33,0.95],\n",
        "           [-0.44,0.73,-0.13,0.7],\n",
        "           [0.1,-0.14,0.5,0.1]\n",
        "          ]\n",
        "\n",
        "bias1 = [1,2,0.2,1]\n",
        "bias2 = [1,2,0.2,1]\n",
        "bias3 = [1,2,0.2,1]\n",
        "bias4 = [1,2,0.2,1]\n",
        "\n",
        "input_array = np.array(input)\n",
        "weight1_array = np.array(weight1)\n",
        "weight2_array = np.array(weight2)\n",
        "weight3_array = np.array(weight3)\n",
        "weight4_array = np.array(weight4)\n",
        "bias1_array = np.array(bias1)\n",
        "bias2_array = np.array(bias2)\n",
        "bias3_array = np.array(bias3)\n",
        "bias4_array = np.array(bias4)\n",
        "\n",
        "layer1_output = np.dot(weight1_array, input_array) + bias1_array\n",
        "print(\"\\nFirst Hidden Layer output\\n\",layer1_output)\n",
        "layer2_output = np.dot(weight2_array,layer1_output) + bias2_array\n",
        "print(\"\\nSecound Hidden Layer Output\\n\",layer2_output)\n",
        "layer3_output = np.dot(weight3_array,layer2_output) + bias3_array\n",
        "print(\"\\nThird Hidden Layer Output\\n\",layer3_output)\n",
        "layer4_output = np.dot(weight4_array,layer3_output) + bias4_array\n",
        "print(\"\\nOutput Layer\\n\",layer4_output)"
      ],
      "metadata": {
        "colab": {
          "base_uri": "https://localhost:8080/"
        },
        "id": "uhXhQ27pamPA",
        "outputId": "393537a6-91c1-46a9-f3be-4363145c9ff3"
      },
      "execution_count": 19,
      "outputs": [
        {
          "output_type": "stream",
          "name": "stdout",
          "text": [
            "\n",
            "First Hidden Layer output\n",
            " [[ 4.     7.8    5.16  10.63 ]\n",
            " [-1.635 -2.7   -1.327 -5.164]\n",
            " [ 2.82   4.012  2.781  3.307]\n",
            " [38.75  62.52  32.2   52.   ]]\n",
            "\n",
            "Secound Hidden Layer Output\n",
            " [[ 80.5389  130.204    66.69228 108.43946]\n",
            " [ 17.2482   27.71204  12.64303  19.97401]\n",
            " [ 28.67985  46.09144  22.35936  33.72317]\n",
            " [ 75.17985 121.11544  60.99936  96.12317]]\n",
            "\n",
            "Third Hidden Layer Output\n",
            " [[ 44.7280855  72.2132396  34.2947227  52.5176704]\n",
            " [ 81.122947  131.0787864  65.0783718 102.8077056]\n",
            " [164.4316495 264.4995848 121.6188712 191.5668739]\n",
            " [  8.256622   13.45009     4.6278039   6.7390793]]\n",
            "\n",
            "Output Layer\n",
            " [[ 77.15708292 124.46509526  55.79071621  88.31603314]\n",
            " [-58.04794254 -92.88444292 -44.87577053 -69.73685358]\n",
            " [ 24.94291466  40.94380562  20.0465429   32.75551201]\n",
            " [ 77.15708292 124.46509526  55.79071621  88.31603314]]\n"
          ]
        }
      ]
    },
    {
      "cell_type": "code",
      "source": [],
      "metadata": {
        "id": "rePLOzc9eYIy"
      },
      "execution_count": null,
      "outputs": []
    }
  ]
}